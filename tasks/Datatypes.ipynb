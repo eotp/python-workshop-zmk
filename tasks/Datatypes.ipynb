{
 "cells": [
  {
   "cell_type": "markdown",
   "metadata": {},
   "source": [
    "# Datatypes\n",
    "\n",
    "In this first homework you can explore datatypes a bit more. Its important to understand the differences between the different operations you can perform on or with these types. "
   ]
  },
  {
   "cell_type": "markdown",
   "metadata": {},
   "source": [
    "#### Your first task is to exchange the `None` in the variable-assignment for \"a\" with either \"True\" or \"False\" depending of whether you think the statement (in round brackets) is correct or not. \n",
    "###### Your Goal is to get \"a\" to be \"True\".\n",
    "If no `None` is in the cell, you don't need to change anything, just run it."
   ]
  },
  {
   "cell_type": "code",
   "execution_count": 9,
   "metadata": {},
   "outputs": [
    {
     "name": "stdout",
     "output_type": "stream",
     "text": [
      "None\n"
     ]
    }
   ],
   "source": [
    "a = (None)  #Lets start with something really simple\n",
    "print(a)"
   ]
  },
  {
   "cell_type": "code",
   "execution_count": 12,
   "metadata": {},
   "outputs": [
    {
     "name": "stdout",
     "output_type": "stream",
     "text": [
      "False\n"
     ]
    }
   ],
   "source": [
    "a = (True) == None #this one also should not be that difficult\n",
    "print(a)           #the double equal sign \"==\" is basically a question whether the left side of it and \n",
    "                   #the right side are equal or not. The answer then gets assigned to \"a\"."
   ]
  },
  {
   "cell_type": "code",
   "execution_count": 4,
   "metadata": {},
   "outputs": [
    {
     "name": "stdout",
     "output_type": "stream",
     "text": [
      "False\n"
     ]
    }
   ],
   "source": [
    "a = (\"5\" == 5) == None\n",
    "print(a)"
   ]
  },
  {
   "cell_type": "code",
   "execution_count": 7,
   "metadata": {},
   "outputs": [
    {
     "name": "stdout",
     "output_type": "stream",
     "text": [
      "False\n"
     ]
    }
   ],
   "source": [
    "a = (int(\"5\") == 5) == None\n",
    "print(a)"
   ]
  },
  {
   "cell_type": "code",
   "execution_count": 14,
   "metadata": {},
   "outputs": [
    {
     "name": "stdout",
     "output_type": "stream",
     "text": [
      "True\n"
     ]
    }
   ],
   "source": [
    "a = (float(\"5\") == 5) == True\n",
    "print(a)"
   ]
  },
  {
   "cell_type": "markdown",
   "metadata": {},
   "source": [
    "That last one is tricky. Python can change the datatype of a number accordingly if you want to do operations with another number of another datatype. With that it is way simpler to do stuff like:\n",
    "5.0 + 5 because you dont need to cast one of the numbers to the right datatype.\n",
    "Can you guess which datatype the result of that will be?"
   ]
  },
  {
   "cell_type": "code",
   "execution_count": 18,
   "metadata": {},
   "outputs": [
    {
     "name": "stdout",
     "output_type": "stream",
     "text": [
      "False\n"
     ]
    }
   ],
   "source": [
    "a = (type(5.0 + 5) == float) == None\n",
    "print(a)"
   ]
  },
  {
   "cell_type": "code",
   "execution_count": 23,
   "metadata": {},
   "outputs": [
    {
     "name": "stdout",
     "output_type": "stream",
     "text": [
      "False\n"
     ]
    }
   ],
   "source": [
    "b = 5\n",
    "c = b\n",
    "b = 6\n",
    "a = (c == b) == None\n",
    "print(a)"
   ]
  },
  {
   "cell_type": "markdown",
   "metadata": {},
   "source": [
    "Do you see what happened there? We assigned b to the integer 5, then told python that c should be the same as b, then changed b and suddenly they are not equal anymore. For integer, as for some other datatypes as well, when we assign them to a variable, we basically just ask python to let the variable b point to the object 5 that is somewhere on your harddisk. When you installed python, you resevered some of you space for exactly these \"immutable\" objects. You dont get a new object when assigning a variable to an immutable object, you just get the direction on where to find this object. The second line when we said \"c = b\" we told python that c should get the direction to the same object as b.\n",
    "When changing b to 6, we just changed the pointer, but c remains untouched by that. It still points to the same object 5. Here comes an example with a mutable object:"
   ]
  },
  {
   "cell_type": "code",
   "execution_count": 27,
   "metadata": {},
   "outputs": [
    {
     "name": "stdout",
     "output_type": "stream",
     "text": [
      "previous b =  [5, 2, 3]\n",
      "previous c =  [5, 2, 3]\n",
      "and after the changes in b:\n",
      "b =  [6, 2, 3]\n",
      "c =  [6, 2, 3]\n"
     ]
    }
   ],
   "source": [
    "b = [5,2,3]\n",
    "c = b\n",
    "print(\"previous b = \",b)\n",
    "print(\"previous c = \",c)\n",
    "b[0] = 6\n",
    "print(\"and after the changes in b:\")\n",
    "print(\"b = \", b)\n",
    "print(\"c = \", c)"
   ]
  },
  {
   "cell_type": "markdown",
   "metadata": {},
   "source": [
    "This is not what you would expect when just thinking of the behaviour for the integers. Lists are muteable objects. This means, when we assign a list to a variable, we get a new space on our RAM that is only reserved for this exact variable. In our case b gets a new memory space that is filled with the information for the list I wrote. When c gets assigned to that exact list, so the same list b points to, we can change anything that is in b and c changes as well. This is because even if we changes the content of the list, the directions still are the same, b and c still point to the same space on our computers where that list is saved. Even if we delete one variable: (the error is intentional)"
   ]
  },
  {
   "cell_type": "code",
   "execution_count": 29,
   "metadata": {},
   "outputs": [
    {
     "name": "stdout",
     "output_type": "stream",
     "text": [
      "[5]\n"
     ]
    },
    {
     "ename": "NameError",
     "evalue": "name 'b' is not defined",
     "output_type": "error",
     "traceback": [
      "\u001b[1;31m---------------------------------------------------------------------------\u001b[0m",
      "\u001b[1;31mNameError\u001b[0m                                 Traceback (most recent call last)",
      "\u001b[1;32m<ipython-input-29-72e00bc32c44>\u001b[0m in \u001b[0;36m<module>\u001b[1;34m()\u001b[0m\n\u001b[0;32m      3\u001b[0m \u001b[1;32mdel\u001b[0m\u001b[1;33m(\u001b[0m\u001b[0mb\u001b[0m\u001b[1;33m)\u001b[0m\u001b[1;33m\u001b[0m\u001b[0m\n\u001b[0;32m      4\u001b[0m \u001b[0mprint\u001b[0m\u001b[1;33m(\u001b[0m\u001b[0mc\u001b[0m\u001b[1;33m)\u001b[0m\u001b[1;33m\u001b[0m\u001b[0m\n\u001b[1;32m----> 5\u001b[1;33m \u001b[0mprint\u001b[0m\u001b[1;33m(\u001b[0m\u001b[0mb\u001b[0m\u001b[1;33m)\u001b[0m\u001b[1;33m\u001b[0m\u001b[0m\n\u001b[0m",
      "\u001b[1;31mNameError\u001b[0m: name 'b' is not defined"
     ]
    }
   ],
   "source": [
    "b = [5]\n",
    "c = b\n",
    "del(b)\n",
    "print(c)\n",
    "print(b)"
   ]
  },
  {
   "cell_type": "markdown",
   "metadata": {},
   "source": [
    "You see that c still points to the list with the entry 5. We didnt actually delete the list, we just deleted the direction for b, it no longer points to that list. "
   ]
  },
  {
   "cell_type": "code",
   "execution_count": 31,
   "metadata": {},
   "outputs": [
    {
     "name": "stdout",
     "output_type": "stream",
     "text": [
      "False\n"
     ]
    }
   ],
   "source": [
    "b = [1,2,3]\n",
    "c = [1,2,3]\n",
    "a = (b == c) == None\n",
    "print(a)"
   ]
  },
  {
   "cell_type": "code",
   "execution_count": 35,
   "metadata": {},
   "outputs": [
    {
     "name": "stdout",
     "output_type": "stream",
     "text": [
      "False\n",
      "b =  [4, 2, 3]\n",
      "c =  [1, 2, 3]\n"
     ]
    }
   ],
   "source": [
    "b = [1,2,3]\n",
    "c = [1,2,3]\n",
    "b[0] = 4\n",
    "a = (b == c) == None\n",
    "print(a)\n",
    "print(\"b = \",b)\n",
    "print(\"c = \",c)"
   ]
  },
  {
   "cell_type": "markdown",
   "metadata": {},
   "source": [
    "The two examples above show you, that if we have an assignement we get a direction to a memory space on our computers, if we tell python, what another variable should get the same direction, we can change the content of that space (as long as a muteable object is in that space) and both of the variables change.\n",
    "The first cell demonstrates, that the \"==\" sign can be used to check if two objects have the same content.\n",
    "In the second cell, b and c obviously dont point to the same object, as we changed b and c didn't change. So the content is different and they are not equal anymore."
   ]
  },
  {
   "cell_type": "markdown",
   "metadata": {},
   "source": [
    "Lets go into another topic that can help us to ask whether two variables point to the same memory space: the \"is\" comparison. Like you learned before the \"==\" is the question whether two things are equal. The \"is\" basically ask if it really the exakt same thing. \n",
    "Lets start with some simple examples. You dont need to change anything in the following cell, just run it."
   ]
  },
  {
   "cell_type": "code",
   "execution_count": 21,
   "metadata": {},
   "outputs": [
    {
     "name": "stdout",
     "output_type": "stream",
     "text": [
      "True\n"
     ]
    }
   ],
   "source": [
    "b = 5\n",
    "c = 5\n",
    "a = b is c\n",
    "print(a)"
   ]
  },
  {
   "cell_type": "markdown",
   "metadata": {},
   "source": [
    "Of course b and c are exactly the same 5. Both variables (b and c) point to the same space that contains the number 5"
   ]
  },
  {
   "cell_type": "code",
   "execution_count": 43,
   "metadata": {},
   "outputs": [
    {
     "name": "stdout",
     "output_type": "stream",
     "text": [
      "False\n"
     ]
    }
   ],
   "source": [
    "b = [1,2,3]\n",
    "c = b\n",
    "a = (b is c) == None\n",
    "print(a)"
   ]
  },
  {
   "cell_type": "code",
   "execution_count": 42,
   "metadata": {},
   "outputs": [
    {
     "name": "stdout",
     "output_type": "stream",
     "text": [
      "False\n"
     ]
    }
   ],
   "source": [
    "b = [1,2,3]\n",
    "c = [1,2,3]\n",
    "a = (b is c) == None\n",
    "print(a)"
   ]
  },
  {
   "cell_type": "markdown",
   "metadata": {},
   "source": [
    "As you can see, in the first case, b and c point to the same object and therefor \"b is c\" is correct, in the second cell they point to different lists and b is not c anymore. (btw, shall we try that statement as well?)\n"
   ]
  },
  {
   "cell_type": "code",
   "execution_count": 45,
   "metadata": {},
   "outputs": [
    {
     "name": "stdout",
     "output_type": "stream",
     "text": [
      "True\n"
     ]
    }
   ],
   "source": [
    "b = [1,2,3]\n",
    "c = [1,2,3]\n",
    "a = (b is not c) == None\n",
    "print(a)"
   ]
  },
  {
   "cell_type": "markdown",
   "metadata": {},
   "source": [
    "That's it, I hope that helps you understand datatypes and logical statements a bit more. We also covered immuteable and muteable objects, which is hard to understand, but I hope I could explain it a bit. If you have question, just email me (k.a.i.winkler@gmx.de) or BETTER: use the questions channel on slack so other I dont get the same questions again and again. "
   ]
  },
  {
   "cell_type": "code",
   "execution_count": null,
   "metadata": {
    "collapsed": true
   },
   "outputs": [],
   "source": []
  }
 ],
 "metadata": {
  "kernelspec": {
   "display_name": "Python 3",
   "language": "python",
   "name": "python3"
  },
  "language_info": {
   "codemirror_mode": {
    "name": "ipython",
    "version": 3
   },
   "file_extension": ".py",
   "mimetype": "text/x-python",
   "name": "python",
   "nbconvert_exporter": "python",
   "pygments_lexer": "ipython3",
   "version": "3.6.1"
  }
 },
 "nbformat": 4,
 "nbformat_minor": 2
}
