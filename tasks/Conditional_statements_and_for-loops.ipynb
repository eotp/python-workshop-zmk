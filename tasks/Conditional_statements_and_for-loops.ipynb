{
 "cells": [
  {
   "cell_type": "markdown",
   "metadata": {},
   "source": [
    "# For-loops and conditional statements\n",
    "\n",
    "This homework aims to help you understand loops and conditional statements by giving you little tasks or functions you should design.\n"
   ]
  },
  {
   "cell_type": "markdown",
   "metadata": {},
   "source": [
    "You first task is to write a program that finds all numbers in a certain range that fit some conditions. It's always useful to be able to go through your data and find outliers or interesting datapoints and for large datasets it's impossible to do that by hand. \n",
    "Let's get started with some things you need to do it effectively.\n",
    "### conditional statements"
   ]
  },
  {
   "cell_type": "code",
   "execution_count": 1,
   "metadata": {
    "scrolled": true
   },
   "outputs": [
    {
     "name": "stdout",
     "output_type": "stream",
     "text": [
      "this gets printed, because the statement behind the 'if' is True\n"
     ]
    }
   ],
   "source": [
    "a = True\n",
    "if a:\n",
    "    print(\"this gets printed, because the statement behind the 'if' is True\")\n",
    "if not a:\n",
    "    print(\"this gets ignored, because a was negated\")"
   ]
  },
  {
   "cell_type": "markdown",
   "metadata": {},
   "source": [
    "'if' statements work like this: first comes the word \"if\" and then a statement, there is basically no limitations on how complex the statement can be.\n",
    "The words 'and' and 'or' can help to combine statements when you need multiple conditions simultanaeously, check the cell below.\n"
   ]
  },
  {
   "cell_type": "code",
   "execution_count": 4,
   "metadata": {},
   "outputs": [
    {
     "name": "stdout",
     "output_type": "stream",
     "text": [
      "I am suprised i managed to get this statement to be true on first try!\n"
     ]
    }
   ],
   "source": [
    "a = True\n",
    "b = False\n",
    "\n",
    "if ((a or b) and (a or not b)) and (a and not b):\n",
    "    print(\"I am suprised i managed to get this statement to be true on first try!\")\n",
    "\n"
   ]
  },
  {
   "cell_type": "code",
   "execution_count": 6,
   "metadata": {},
   "outputs": [
    {
     "name": "stdout",
     "output_type": "stream",
     "text": [
      "Since the statement after 'If' is wrong we got something 'Else' printed ;)\n"
     ]
    }
   ],
   "source": [
    "#lets see what the result looks like with different brackets.\n",
    "if (a or b and a or not b and a) and b:\n",
    "    print(\"I am suprised i managed to get this statement to be true on first try!\")\n",
    "else:\n",
    "    print(\"Since the statement after 'If' is wrong we got something 'Else' printed ;)\")"
   ]
  },
  {
   "cell_type": "markdown",
   "metadata": {},
   "source": [
    "Logical statements is a huuuge part in mathematics and informatics, you will probably only need 'and', which only returns True if the statement left from it and the statement right from it are both true, and 'or' which returns True if atleast one of the statements is true."
   ]
  },
  {
   "cell_type": "markdown",
   "metadata": {},
   "source": [
    "### For-loops"
   ]
  },
  {
   "cell_type": "markdown",
   "metadata": {},
   "source": [
    "Like we demonstrated a couple of times in the last workshop for-loops are relatively easy created, they follow these rules:\n",
    "- for arbitrary_variable_name in some_iterable_object:\n",
    "     - repeat something for every object in some_iterable_object\n",
    "     \n",
    "First comes the keyword 'for', then a variable name, then the keyword 'in' and then your object you want to loop through.\n",
    "In each iteration an object from the iterable object gets picked and assigned to the variable, for lists and arrays, the loop iterates in order, for dictionarys there is no order. In most cases you will iterate through lists so from now on the iterable object will just be a list.\n",
    "\n"
   ]
  },
  {
   "cell_type": "code",
   "execution_count": null,
   "metadata": {
    "collapsed": true
   },
   "outputs": [],
   "source": [
    "your_list = [1,2,\"string\",[3,4,5]]\n",
    "for item in your_list:\n",
    "    print(item)"
   ]
  },
  {
   "cell_type": "markdown",
   "metadata": {},
   "source": [
    "Sometimes you want to repeat something numerous times without iterating through an existing list so you can just create it in the for-loop header with the range(int) function. "
   ]
  },
  {
   "cell_type": "code",
   "execution_count": null,
   "metadata": {
    "collapsed": true
   },
   "outputs": [],
   "source": [
    "a_string = \"\"\n",
    "for a_number in range(10):\n",
    "    a_string = a_string + \"i \"\n",
    "\n",
    "print(a_string) \n",
    "\n"
   ]
  },
  {
   "cell_type": "code",
   "execution_count": null,
   "metadata": {
    "collapsed": true
   },
   "outputs": [],
   "source": [
    "for bla in range(5,10):\n",
    "    print(bla)"
   ]
  },
  {
   "cell_type": "code",
   "execution_count": null,
   "metadata": {
    "collapsed": true
   },
   "outputs": [],
   "source": [
    "for bla in range(5,10,2):\n",
    "    print(bla)"
   ]
  },
  {
   "cell_type": "markdown",
   "metadata": {},
   "source": [
    "Now your task is it to combine the two things you just learned."
   ]
  },
  {
   "cell_type": "markdown",
   "metadata": {},
   "source": [
    "### Write a program that filters all numbers between 1500 and 2700 that are divisible by 7 and multiples of 5.\n",
    "\n",
    "Some tools you might need for this:\n",
    "- a % b returns the remainder of the division of a / b (i.e. 10 % 7 = 3)\n",
    "\n",
    "by program I mean you have to formulate an algorithm that fills a list with every number between 1500 and 2700 that follows the criteria. The final list should be printed. "
   ]
  },
  {
   "cell_type": "code",
   "execution_count": null,
   "metadata": {
    "collapsed": true
   },
   "outputs": [],
   "source": []
  }
 ],
 "metadata": {
  "kernelspec": {
   "display_name": "Python 3",
   "language": "python",
   "name": "python3"
  },
  "language_info": {
   "codemirror_mode": {
    "name": "ipython",
    "version": 3
   },
   "file_extension": ".py",
   "mimetype": "text/x-python",
   "name": "python",
   "nbconvert_exporter": "python",
   "pygments_lexer": "ipython3",
   "version": "3.6.1"
  }
 },
 "nbformat": 4,
 "nbformat_minor": 2
}
