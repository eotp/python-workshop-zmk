{
 "cells": [
  {
   "cell_type": "markdown",
   "metadata": {
    "slideshow": {
     "slide_type": "slide"
    }
   },
   "source": [
    "#  Python workshop series at Charité - Universitätsmedizin Berlin, Department of Restorative and Preventive Dentistry\n",
    "\n",
    "## Part 2\n",
    "\n",
    "November 2nd and 3rd, 2018   \n",
    "\n",
    "\n",
    "\n",
    "**Instructors**   \n",
    "Joachim Krois (Charité $-$ Universitätsmedizin Berlin)   \n",
    "email: joachim.krois@charite.de\n",
    "\n",
    "Kai Winkler (Charité $-$ Universitätsmedizin Berlin)   \n",
    "email: kai.winkler@charite.de   \n"
   ]
  },
  {
   "cell_type": "markdown",
   "metadata": {
    "slideshow": {
     "slide_type": "slide"
    }
   },
   "source": [
    "## Schedule\n",
    "\n",
    "* Recap of Part 1 (Python, `conda` and IDEs,...) and open questions\n",
    "* Review of the Homework\n",
    "* _Essentials of version control for collaborative coding (skipped)_ \n",
    "* Data science, statistics and predictive modeling\n",
    "    * The _SciPy_, _numpy_, _pandas_ and _scikit-learn_ modules for data science\n",
    "    * Processing of tabular data\n",
    "    * Plotting with Python\n",
    "    * Exploratory data analysis \n",
    "* Statistics\n",
    "    * Univariate statistics\n",
    "    * Multivariate statistics\n",
    "    * Confidence intervals and bootstrapping\n",
    "    * Hypotheses tests    \n",
    "* Predictive modeling\n",
    "    * Regression\n",
    "    * Classification\n",
    "    * Model tuning"
   ]
  }
 ],
 "metadata": {
  "celltoolbar": "Slideshow",
  "kernelspec": {
   "display_name": "Python 3",
   "language": "python",
   "name": "python3"
  },
  "language_info": {
   "codemirror_mode": {
    "name": "ipython",
    "version": 3
   },
   "file_extension": ".py",
   "mimetype": "text/x-python",
   "name": "python",
   "nbconvert_exporter": "python",
   "pygments_lexer": "ipython3",
   "version": "3.6.6"
  },
  "livereveal": {
   "scroll": true,
   "start_slideshow_at": "selected"
  }
 },
 "nbformat": 4,
 "nbformat_minor": 2
}
