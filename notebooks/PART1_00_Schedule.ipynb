{
 "cells": [
  {
   "cell_type": "markdown",
   "metadata": {
    "slideshow": {
     "slide_type": "slide"
    }
   },
   "source": [
    "#  Python workshop series at Charité - Universitätsmedizin Berlin, Department of Restorative and Preventive Dentistry\n",
    "\n",
    "## Part 1\n",
    "\n",
    "October 19 and 20th, 2018   \n",
    "\n",
    "\n",
    "\n",
    "**Instructors**   \n",
    "Joachim Krois (Charité $-$ Universitätsmedizin Berlin)   \n",
    "email: joachim.krois@charite.de\n",
    "\n",
    "Kai Winkler (Charité $-$ Universitätsmedizin Berlin)   \n",
    "email: kai.winkler@charite.de   \n"
   ]
  },
  {
   "cell_type": "markdown",
   "metadata": {
    "slideshow": {
     "slide_type": "slide"
    }
   },
   "source": [
    "## Schedule\n",
    "\n",
    "* __Getting started with Python__\n",
    "  * Set up of a computational environment\n",
    "  * Introduction to scientific computing with Python\n",
    "  * Python's scientific stack\n",
    "  * IDE's and the Jupyter ecosystem\n",
    "  "
   ]
  },
  {
   "cell_type": "markdown",
   "metadata": {
    "slideshow": {
     "slide_type": "fragment"
    }
   },
   "source": [
    "\n",
    "* __Python 101__\n",
    "  * Objects\n",
    "  * Operations\n",
    "  * Functions\n",
    "  * Methods\n",
    "  * Indexing and Slicing\n",
    "  * Collections\n",
    "  * Loops\n",
    "  * List comprehensions\n",
    "  * Control Flow\n",
    "  * I/O\n",
    "  * User-defined functions\n",
    "  * Code refactoring"
   ]
  },
  {
   "cell_type": "markdown",
   "metadata": {
    "slideshow": {
     "slide_type": "slide"
    }
   },
   "source": [
    "## Goals of this workshop series\n",
    "\n",
    "* Computational Thinking\n",
    "* Basic understanding of the programming language Python\n",
    "* Showcase tools that help you to become more productive \n"
   ]
  },
  {
   "cell_type": "markdown",
   "metadata": {
    "slideshow": {
     "slide_type": "slide"
    }
   },
   "source": [
    "\n",
    "## This workshop ...\n",
    "* ... __does not__ make you a programmer or software engineer\n",
    "* ... __does not__ teach you all nitty gritty details of Python\n",
    "* ... __is not__ the end of your journey but hopfully the start of it"
   ]
  },
  {
   "cell_type": "markdown",
   "metadata": {
    "slideshow": {
     "slide_type": "slide"
    }
   },
   "source": [
    "## Indroduce yourself\n",
    "\n",
    "* Name\n",
    "* Profession and/or project you are currently working on\n",
    "* Computational or data problems you are facing\n",
    "* Software you use\n",
    "* Experience with programming"
   ]
  }
 ],
 "metadata": {
  "celltoolbar": "Slideshow",
  "kernelspec": {
   "display_name": "Python 3",
   "language": "python",
   "name": "python3"
  },
  "language_info": {
   "codemirror_mode": {
    "name": "ipython",
    "version": 3
   },
   "file_extension": ".py",
   "mimetype": "text/x-python",
   "name": "python",
   "nbconvert_exporter": "python",
   "pygments_lexer": "ipython3",
   "version": "3.6.6"
  },
  "livereveal": {
   "scroll": true,
   "start_slideshow_at": "selected"
  }
 },
 "nbformat": 4,
 "nbformat_minor": 2
}
