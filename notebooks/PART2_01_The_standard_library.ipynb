{
 "cells": [
  {
   "cell_type": "markdown",
   "metadata": {
    "slideshow": {
     "slide_type": "-"
    }
   },
   "source": [
    "# The standard library"
   ]
  },
  {
   "cell_type": "markdown",
   "metadata": {
    "slideshow": {
     "slide_type": "-"
    }
   },
   "source": [
    "***\n",
    "## The standard library"
   ]
  },
  {
   "cell_type": "markdown",
   "metadata": {
    "slideshow": {
     "slide_type": "-"
    }
   },
   "source": [
    "The **Python Standard Library** contains a huge number of useful modules and is part of every standard Python installation. \n",
    "Complete details for all of the modules in the Python Standard Library in found at the [Library Reference manual](https://docs.python.org/3/library/). \n",
    "In order to further explore the standard library check out Doug Hellmann's awesome [Python Module of the Week (PyMOTW)](https://pymotw.com/3/about.html) series.\n",
    "\n",
    "\n",
    "\n",
    "\n",
    "In this section we mention just two useful modules.\n",
    "\n",
    "\n",
    "* `glob` – Filename pattern matching\n",
    "* `os` – Portable access to operating system specific features"
   ]
  },
  {
   "cell_type": "markdown",
   "metadata": {
    "slideshow": {
     "slide_type": "-"
    }
   },
   "source": [
    "###  `glob` – Filename pattern matching \n",
    "\n",
    "Use Unix shell rules to fine filenames matching a pattern.\n",
    "\n",
    "The module is useful in any situation where your program needs to look for a list of files on the filesystem with names matching a pattern. If you need a list of filenames that all have a certain extension, prefix, or any common string in the middle, use `glob` instead of writing code to scan the directory contents yourself.Note that the pattern rules for `glob` are not regular expressions. Instead, they follow standard Unix path expansion rules. "
   ]
  },
  {
   "cell_type": "code",
   "execution_count": 1,
   "metadata": {
    "slideshow": {
     "slide_type": "-"
    }
   },
   "outputs": [
    {
     "name": "stdout",
     "output_type": "stream",
     "text": [
      "./PART2_09_Predictive_modeling.ipynb\n",
      "./PART1_06_Homework.ipynb\n",
      "./PART2_04_Plotting_with_Python.ipynb\n",
      "./_img\n",
      "./PART1_03_Pythons_ scientific_stack.ipynb\n",
      "./PART2_11_The adult data set.ipynb\n",
      "./PART2_02_The_SciPy_library.ipynb\n",
      "./PART1_02_Scientific_computing_with_Python.ipynb\n",
      "./PART1_04_IDEs_and_the_Jupyter_ecosystem.ipynb\n",
      "./PART2_05_The_pandas_library.ipynb\n",
      "./PART2_10_Regression.ipynb\n",
      "./PART2_08_The_scikit-learn_library.ipynb\n",
      "./PART1_05_Python_101.ipynb\n",
      "./PART2_03_The_NumPy_library.ipynb\n",
      "./PART1_00_Schedule.ipynb\n",
      "./PART2_06_Processing_of_Tabular_Data.ipynb\n",
      "./PART1_01_Set_up_of_a_computational_environment.ipynb\n",
      "./PART2_01_The_standard_library.ipynb\n",
      "./PART2_07_Time_Series_Analysis_with_pandas.ipynb\n"
     ]
    }
   ],
   "source": [
    "import glob\n",
    "for name in glob.glob('./*'):\n",
    "    print(name)"
   ]
  },
  {
   "cell_type": "code",
   "execution_count": 2,
   "metadata": {
    "slideshow": {
     "slide_type": "-"
    }
   },
   "outputs": [
    {
     "name": "stdout",
     "output_type": "stream",
     "text": [
      "./PART2_09_Predictive_modeling.ipynb\n",
      "./PART1_06_Homework.ipynb\n",
      "./PART2_04_Plotting_with_Python.ipynb\n",
      "./PART1_03_Pythons_ scientific_stack.ipynb\n",
      "./PART2_11_The adult data set.ipynb\n",
      "./PART2_02_The_SciPy_library.ipynb\n",
      "./PART1_02_Scientific_computing_with_Python.ipynb\n",
      "./PART1_04_IDEs_and_the_Jupyter_ecosystem.ipynb\n",
      "./PART2_05_The_pandas_library.ipynb\n",
      "./PART2_10_Regression.ipynb\n",
      "./PART2_08_The_scikit-learn_library.ipynb\n",
      "./PART1_05_Python_101.ipynb\n",
      "./PART2_03_The_NumPy_library.ipynb\n",
      "./PART1_00_Schedule.ipynb\n",
      "./PART2_06_Processing_of_Tabular_Data.ipynb\n",
      "./PART1_01_Set_up_of_a_computational_environment.ipynb\n",
      "./PART2_01_The_standard_library.ipynb\n",
      "./PART2_07_Time_Series_Analysis_with_pandas.ipynb\n"
     ]
    }
   ],
   "source": [
    "for name in glob.glob('./*.ipynb'):\n",
    "    print(name)"
   ]
  },
  {
   "cell_type": "markdown",
   "metadata": {},
   "source": [
    "> __Challenge__: List all `.ipynb` files that start with `PART2`"
   ]
  },
  {
   "cell_type": "code",
   "execution_count": 3,
   "metadata": {},
   "outputs": [],
   "source": [
    "# your code here"
   ]
  },
  {
   "cell_type": "code",
   "execution_count": 4,
   "metadata": {},
   "outputs": [],
   "source": [
    "# %load ../src/_solutions/standard_lib01.py"
   ]
  },
  {
   "cell_type": "markdown",
   "metadata": {
    "slideshow": {
     "slide_type": "-"
    }
   },
   "source": [
    "### `os` – Portable access to operating system specific features\n",
    "\n",
    "The `os` module provides a wrapper for platform specific modules. Not all functions are available on all platforms. \n"
   ]
  },
  {
   "cell_type": "code",
   "execution_count": 5,
   "metadata": {
    "slideshow": {
     "slide_type": "-"
    }
   },
   "outputs": [
    {
     "name": "stdout",
     "output_type": "stream",
     "text": [
      "Starting: /Users/jokr/Documents/workshops/python-workshop-zmk/notebooks\n",
      "Moving up one: ..\n",
      "After move: /Users/jokr/Documents/workshops/python-workshop-zmk\n"
     ]
    }
   ],
   "source": [
    "import os\n",
    "\n",
    "cwd = os.getcwd()\n",
    "print('Starting: {}'.format(cwd))\n",
    "\n",
    "print('Moving up one: {}'.format(os.pardir))\n",
    "os.chdir(os.pardir)\n",
    "print('After move: {}'.format(os.getcwd()))\n",
    "\n",
    "# reset previous working directory\n",
    "os.chdir(cwd)"
   ]
  }
 ],
 "metadata": {
  "kernelspec": {
   "display_name": "Python 3",
   "language": "python",
   "name": "python3"
  },
  "language_info": {
   "codemirror_mode": {
    "name": "ipython",
    "version": 3
   },
   "file_extension": ".py",
   "mimetype": "text/x-python",
   "name": "python",
   "nbconvert_exporter": "python",
   "pygments_lexer": "ipython3",
   "version": "3.6.6"
  },
  "livereveal": {
   "scroll": true,
   "start_slideshow_at": "selected"
  }
 },
 "nbformat": 4,
 "nbformat_minor": 2
}
